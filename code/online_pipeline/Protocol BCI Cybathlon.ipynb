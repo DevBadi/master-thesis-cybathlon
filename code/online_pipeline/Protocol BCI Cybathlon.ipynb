{
 "cells": [
  {
   "cell_type": "markdown",
   "metadata": {},
   "source": [
    "Goal: Connecting notebook to Cybathlon game (manual controls)"
   ]
  },
  {
   "cell_type": "code",
   "execution_count": 15,
   "metadata": {},
   "outputs": [],
   "source": [
    "from ipywidgets import interact\n",
    "import ipywidgets as widgets\n",
    "import socket\n",
    "from IPython.display import clear_output"
   ]
  },
  {
   "cell_type": "code",
   "execution_count": 17,
   "metadata": {},
   "outputs": [
    {
     "data": {
      "application/vnd.jupyter.widget-view+json": {
       "model_id": "686bbad905b94598a1db20b3c7dbfd1c",
       "version_major": 2,
       "version_minor": 0
      },
      "text/html": [
       "<p>Failed to display Jupyter Widget of type <code>HBox</code>.</p>\n",
       "<p>\n",
       "  If you're reading this message in the Jupyter Notebook or JupyterLab Notebook, it may mean\n",
       "  that the widgets JavaScript is still loading. If this message persists, it\n",
       "  likely means that the widgets JavaScript library is either not installed or\n",
       "  not enabled. See the <a href=\"https://ipywidgets.readthedocs.io/en/stable/user_install.html\">Jupyter\n",
       "  Widgets Documentation</a> for setup instructions.\n",
       "</p>\n",
       "<p>\n",
       "  If you're reading this message in another frontend (for example, a static\n",
       "  rendering on GitHub or <a href=\"https://nbviewer.jupyter.org/\">NBViewer</a>),\n",
       "  it may mean that your frontend doesn't currently support widgets.\n",
       "</p>\n"
      ],
      "text/plain": [
       "HBox(children=(Button(description='Left', style=ButtonStyle()), Button(description='Light', style=ButtonStyle()), Button(description='Right', style=ButtonStyle()), Output()))"
      ]
     },
     "metadata": {},
     "output_type": "display_data"
    }
   ],
   "source": [
    "# UDP server settings\n",
    "UDP_IP = \"127.0.0.1\"\n",
    "UDP_PORT = 5555\n",
    "sock = socket.socket(socket.AF_INET, socket.SOCK_DGRAM) # UDP\n",
    "\n",
    "button_left = widgets.Button(description='Left')\n",
    "button_light = widgets.Button(description='Light')\n",
    "button_right = widgets.Button(description='Right')\n",
    "out = widgets.Output()\n",
    "\n",
    "def on_button_clicked_left(_):\n",
    "    with out:\n",
    "        clear_output()\n",
    "        MESSAGE = \"\\x0B\"\n",
    "        sock.sendto(bytes(MESSAGE, \"utf-8\"), (UDP_IP, UDP_PORT))\n",
    "        print('Left!')\n",
    "\n",
    "def on_button_clicked_light(_):\n",
    "    with out:\n",
    "        clear_output()\n",
    "        MESSAGE = \"\\x0C\"\n",
    "        sock.sendto(bytes(MESSAGE, \"utf-8\"), (UDP_IP, UDP_PORT))\n",
    "        print('Light!')\n",
    "\n",
    "def on_button_clicked_right(_):\n",
    "    with out:\n",
    "        clear_output()\n",
    "        MESSAGE = \"\\x0D\"\n",
    "        sock.sendto(bytes(MESSAGE, \"utf-8\"), (UDP_IP, UDP_PORT))\n",
    "        print('Right!')\n",
    "\n",
    "# linking button and function together using a button's method\n",
    "button_left.on_click(on_button_clicked_left)\n",
    "button_light.on_click(on_button_clicked_light)\n",
    "button_right.on_click(on_button_clicked_right)\n",
    "\n",
    "# Displaying buttons and its output together\n",
    "widgets.HBox([button_left, button_light, button_right, out])"
   ]
  }
 ],
 "metadata": {
  "kernelspec": {
   "display_name": "Python 3",
   "language": "python",
   "name": "python3"
  },
  "language_info": {
   "codemirror_mode": {
    "name": "ipython",
    "version": 3
   },
   "file_extension": ".py",
   "mimetype": "text/x-python",
   "name": "python",
   "nbconvert_exporter": "python",
   "pygments_lexer": "ipython3",
   "version": "3.7.3"
  }
 },
 "nbformat": 4,
 "nbformat_minor": 2
}
